{
 "cells": [
  {
   "cell_type": "code",
   "execution_count": 1,
   "id": "7aec6bed",
   "metadata": {},
   "outputs": [
    {
     "name": "stdout",
     "output_type": "stream",
     "text": [
      "0\n",
      "1\n",
      "2\n",
      "3\n",
      "4\n"
     ]
    }
   ],
   "source": [
    "n=0\n",
    "while n < 5:\n",
    "    print(n)\n",
    "    n+=1\n"
   ]
  },
  {
   "cell_type": "code",
   "execution_count": 108,
   "id": "6034550c",
   "metadata": {},
   "outputs": [
    {
     "name": "stdout",
     "output_type": "stream",
     "text": [
      "0\n",
      "1\n",
      "2\n",
      "3\n",
      "4\n",
      "5 is not less than 5\n"
     ]
    }
   ],
   "source": [
    "n=0\n",
    "while n < 5:\n",
    "    print(n)\n",
    "    n+=1\n",
    "else:\n",
    "    print(\"5 is not less than 5\")\n",
    "    "
   ]
  },
  {
   "cell_type": "code",
   "execution_count": 112,
   "id": "4623000f",
   "metadata": {},
   "outputs": [
    {
     "name": "stdout",
     "output_type": "stream",
     "text": [
      "I like orange\n",
      "I like banana\n",
      "apple is really a fruit?\n"
     ]
    }
   ],
   "source": [
    "fruitList = [\"orange\", \"banana\", \"apple\"]\n",
    "for i in fruitList:\n",
    "    if 'p' in i:\n",
    "        continue\n",
    "    print(\"I like\", i)\n",
    "else:\n",
    "    print(fruit, \"is really a fruit?\")"
   ]
  },
  {
   "cell_type": "code",
   "execution_count": 113,
   "id": "462de6ef",
   "metadata": {},
   "outputs": [
    {
     "name": "stdout",
     "output_type": "stream",
     "text": [
      "sum = 465\n"
     ]
    }
   ],
   "source": [
    "n=30\n",
    "total_numbers = n \n",
    "sum = 0\n",
    "while n >=0: \n",
    "    sum+=n\n",
    "    n-=1\n",
    "print(\"sum =\", sum)"
   ]
  },
  {
   "cell_type": "code",
   "execution_count": 115,
   "id": "ba3540f4",
   "metadata": {},
   "outputs": [
    {
     "name": "stdout",
     "output_type": "stream",
     "text": [
      "B\n"
     ]
    }
   ],
   "source": [
    "grade = 85 \n",
    "\n",
    "if grade >= 90:\n",
    "    print(\"A\")\n",
    "elif grade >= 80:\n",
    "    print(\"B\")\n",
    "elif grade >= 70:\n",
    "    print(\"C\")\n",
    "elif grade >= 60:\n",
    "    print(\"D\")\n",
    "else:\n",
    "    print(\"F\")"
   ]
  },
  {
   "cell_type": "code",
   "execution_count": 116,
   "id": "8639fce4",
   "metadata": {},
   "outputs": [
    {
     "name": "stdout",
     "output_type": "stream",
     "text": [
      "Andy has a grade of 88\n",
      "Amy has a grade of 66\n",
      "James has a grade of 90\n",
      "Jules has a grade of 55\n",
      "Arthur has a grade of 77\n"
     ]
    }
   ],
   "source": [
    "marks = {'Andy':88, 'Amy':66, 'James':90, 'Jules':55, 'Arthur':77}\n",
    "for student in marks:\n",
    "    print(student, \"has a grade of\", marks[student])"
   ]
  },
  {
   "cell_type": "code",
   "execution_count": 121,
   "id": "9c05d294",
   "metadata": {},
   "outputs": [
    {
     "name": "stdout",
     "output_type": "stream",
     "text": [
      "the mean is 75.2\n",
      "the max is 90\n",
      "the min is 55\n"
     ]
    }
   ],
   "source": [
    "grades = list(marks.values())\n",
    "\n",
    "mean = 0\n",
    "for val in marks.values():\n",
    "    mean += val    \n",
    "mean = mean / len(marks)\n",
    "\n",
    "print (\"the mean is\", str(mean))\n",
    "print(\"the max is\", max(grades))\n",
    "print(\"the min is\", min(grades))\n"
   ]
  },
  {
   "cell_type": "code",
   "execution_count": 67,
   "id": "35408ae5",
   "metadata": {},
   "outputs": [
    {
     "name": "stdout",
     "output_type": "stream",
     "text": [
      "Andy\n",
      "Amy\n"
     ]
    }
   ],
   "source": [
    "for student in marks:\n",
    "    if 'J' in student:\n",
    "        break\n",
    "    print(student)"
   ]
  },
  {
   "cell_type": "code",
   "execution_count": 68,
   "id": "ec831941",
   "metadata": {},
   "outputs": [
    {
     "name": "stdout",
     "output_type": "stream",
     "text": [
      "Andy\n",
      "Amy\n",
      "Arthur\n"
     ]
    }
   ],
   "source": [
    "for student in marks:\n",
    "    if 'J' in student:\n",
    "        continue \n",
    "    print(student)"
   ]
  }
 ],
 "metadata": {
  "kernelspec": {
   "display_name": "Python 3 (ipykernel)",
   "language": "python",
   "name": "python3"
  },
  "language_info": {
   "codemirror_mode": {
    "name": "ipython",
    "version": 3
   },
   "file_extension": ".py",
   "mimetype": "text/x-python",
   "name": "python",
   "nbconvert_exporter": "python",
   "pygments_lexer": "ipython3",
   "version": "3.9.13"
  }
 },
 "nbformat": 4,
 "nbformat_minor": 5
}
